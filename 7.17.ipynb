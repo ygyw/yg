{
 "cells": [
  {
   "cell_type": "markdown",
   "metadata": {},
   "source": [
    "# 数学函数、字符串和对象\n",
    "## 本章介绍Python函数来执行常见的数学运算\n",
    "- 函数是完成一个特殊任务的一组语句，可以理解为一个函数相当于一个小功能，但是在开发中，需要注意一个函数的长度最好不要超过一屏\n",
    "- Python中的内置函数是不需要Import导入的\n",
    "<img src=\"../Python/Photo/15.png\"></img>"
   ]
  },
  {
   "cell_type": "code",
   "execution_count": 1,
   "metadata": {},
   "outputs": [
    {
     "data": {
      "text/plain": [
       "10"
      ]
     },
     "execution_count": 1,
     "metadata": {},
     "output_type": "execute_result"
    }
   ],
   "source": [
    "abs(-10) #取一个数的绝对值"
   ]
  },
  {
   "cell_type": "code",
   "execution_count": 3,
   "metadata": {},
   "outputs": [
    {
     "data": {
      "text/plain": [
       "5"
      ]
     },
     "execution_count": 3,
     "metadata": {},
     "output_type": "execute_result"
    }
   ],
   "source": [
    "max([1,2,3,5])  #可迭代取最大值"
   ]
  },
  {
   "cell_type": "code",
   "execution_count": 4,
   "metadata": {},
   "outputs": [
    {
     "data": {
      "text/plain": [
       "4"
      ]
     },
     "execution_count": 4,
     "metadata": {},
     "output_type": "execute_result"
    }
   ],
   "source": [
    "max(1,2,3,4)"
   ]
  },
  {
   "cell_type": "code",
   "execution_count": 5,
   "metadata": {},
   "outputs": [
    {
     "data": {
      "text/plain": [
       "'c'"
      ]
     },
     "execution_count": 5,
     "metadata": {},
     "output_type": "execute_result"
    }
   ],
   "source": [
    "max('a','b','c','A')"
   ]
  },
  {
   "cell_type": "code",
   "execution_count": 6,
   "metadata": {},
   "outputs": [
    {
     "data": {
      "text/plain": [
       "'r'"
      ]
     },
     "execution_count": 6,
     "metadata": {},
     "output_type": "execute_result"
    }
   ],
   "source": [
    "max('abcdr')"
   ]
  },
  {
   "cell_type": "code",
   "execution_count": 7,
   "metadata": {},
   "outputs": [
    {
     "data": {
      "text/plain": [
       "4"
      ]
     },
     "execution_count": 7,
     "metadata": {},
     "output_type": "execute_result"
    }
   ],
   "source": [
    "pow(2,2)"
   ]
  },
  {
   "cell_type": "code",
   "execution_count": 12,
   "metadata": {},
   "outputs": [
    {
     "data": {
      "text/plain": [
       "1"
      ]
     },
     "execution_count": 12,
     "metadata": {},
     "output_type": "execute_result"
    }
   ],
   "source": [
    "pow(2,2,3) #前两个参数求幂 ，第三个参数求幂后取余"
   ]
  },
  {
   "cell_type": "code",
   "execution_count": 15,
   "metadata": {},
   "outputs": [
    {
     "name": "stdout",
     "output_type": "stream",
     "text": [
      "输入三个数用“，”分隔：1,2,3\n",
      "请选择你要执行的方式：max,min,pow_summax\n",
      "3\n"
     ]
    }
   ],
   "source": [
    "a,b,c = eval(input('输入三个数用“，”分隔：'))\n",
    "choose_method = input('请选择你要执行的方式：max,min,pow_sum')\n",
    "if choose_method == 'max':\n",
    "    max_= max(a,b,c)\n",
    "    print(max_)\n",
    "elif choose_method == 'min':\n",
    "    min_= min(a,b,c)\n",
    "    print(min_)\n",
    "elif choose_method == 'pow2_sum':\n",
    "    pow_sum_ = pow(a,2)+pow(b,2)+pow(c,2)\n",
    "    print(pow_sum_)"
   ]
  },
  {
   "cell_type": "markdown",
   "metadata": {},
   "source": [
    "## 尝试练习Python内置函数"
   ]
  },
  {
   "cell_type": "markdown",
   "metadata": {},
   "source": [
    "## Python中的math模块提供了许多数学函数\n",
    "<img src=\"../Python/Photo/16.png\"></img>\n",
    "<img src=\"../Python/Photo/17.png\"></img>\n"
   ]
  },
  {
   "cell_type": "code",
   "execution_count": 3,
   "metadata": {},
   "outputs": [
    {
     "data": {
      "image/png": "[encoded data removed]",
      "text/plain": [
       "<matplotlib.figure.Figure at 0x1cb38917eb8>"
      ]
     },
     "metadata": {},
     "output_type": "display_data"
    }
   ],
   "source": [
    "import math\n",
    "import matplotlib.pyplot as plt\n",
    "list_ = [ ]\n",
    "for z in range(-50,50):\n",
    "    res=1./(1.+ math.exp(-z))\n",
    "    list_.append(res)\n",
    "plt.plot(list_)\n",
    "plt.show()"
   ]
  },
  {
   "cell_type": "code",
   "execution_count": 9,
   "metadata": {},
   "outputs": [
    {
     "data": {
      "text/plain": [
       "1"
      ]
     },
     "execution_count": 9,
     "metadata": {},
     "output_type": "execute_result"
    }
   ],
   "source": [
    "import random\n",
    "random_num = random.random()\n",
    "res=1./(1.+ math.exp(-z))\n",
    "round(res)"
   ]
  },
  {
   "cell_type": "code",
   "execution_count": 5,
   "metadata": {},
   "outputs": [
    {
     "data": {
      "text/plain": [
       "2.0"
      ]
     },
     "execution_count": 5,
     "metadata": {},
     "output_type": "execute_result"
    }
   ],
   "source": [
    "import math\n",
    "math.fabs(2)  #看作浮点数取绝对值"
   ]
  },
  {
   "cell_type": "code",
   "execution_count": 17,
   "metadata": {},
   "outputs": [
    {
     "data": {
      "text/plain": [
       "2"
      ]
     },
     "execution_count": 17,
     "metadata": {},
     "output_type": "execute_result"
    }
   ],
   "source": [
    "math.ceil(1.2) #向上取整"
   ]
  },
  {
   "cell_type": "code",
   "execution_count": 18,
   "metadata": {},
   "outputs": [
    {
     "data": {
      "text/plain": [
       "1"
      ]
     },
     "execution_count": 18,
     "metadata": {},
     "output_type": "execute_result"
    }
   ],
   "source": [
    "math.floor(1.2)  #向下取整"
   ]
  },
  {
   "cell_type": "code",
   "execution_count": 10,
   "metadata": {},
   "outputs": [
    {
     "data": {
      "text/plain": [
       "0.0"
      ]
     },
     "execution_count": 10,
     "metadata": {},
     "output_type": "execute_result"
    }
   ],
   "source": [
    "math.log(1)"
   ]
  },
  {
   "cell_type": "code",
   "execution_count": 12,
   "metadata": {},
   "outputs": [
    {
     "data": {
      "text/plain": [
       "2.0"
      ]
     },
     "execution_count": 12,
     "metadata": {},
     "output_type": "execute_result"
    }
   ],
   "source": [
    "math.sqrt(4)"
   ]
  },
  {
   "cell_type": "markdown",
   "metadata": {},
   "source": [
    "## 两个数学常量PI和e，可以通过使用math.pi 和math.e调用"
   ]
  },
  {
   "cell_type": "code",
   "execution_count": 13,
   "metadata": {},
   "outputs": [
    {
     "data": {
      "text/plain": [
       "3.141592653589793"
      ]
     },
     "execution_count": 13,
     "metadata": {},
     "output_type": "execute_result"
    }
   ],
   "source": [
    "math.pi"
   ]
  },
  {
   "cell_type": "code",
   "execution_count": null,
   "metadata": {},
   "outputs": [],
   "source": []
  },
  {
   "cell_type": "markdown",
   "metadata": {},
   "source": [
    "## EP:\n",
    "- 通过math库，写一个程序，使得用户输入三个顶点(x,y)返回三个角度\n",
    "- 注意：Python计算角度为弧度制，需要将其转换为角度\n",
    "<img src=\"../Python/Photo/18.png\">"
   ]
  },
  {
   "cell_type": "code",
   "execution_count": 19,
   "metadata": {},
   "outputs": [
    {
     "name": "stdout",
     "output_type": "stream",
     "text": [
      "输入第一个顶点坐标：0,0\n",
      "输入第二个顶点坐标：0,1\n",
      "输入第三个顶点坐标：1,0\n",
      "90.00000000000001 44.999999999999986 44.999999999999986\n"
     ]
    }
   ],
   "source": [
    "x1,y1 = eval(input('输入第一个顶点坐标：'))\n",
    "x2,y2 = eval(input('输入第二个顶点坐标：'))\n",
    "x3,y3 = eval(input('输入第三个顶点坐标：'))\n",
    "import math\n",
    "a = abs(math.sqrt(pow(x3 - x2,2) + pow(y3 - y2,2)))\n",
    "b = abs(math.sqrt(pow(x3 - x1,2) + pow(y3 - y1,2)))\n",
    "c = abs(math.sqrt(pow(x2 - x1,2) + pow(y2 - y1,2)))\n",
    "A = math.acos((a * a - b * b - c * c) / (-2 * b * c))\n",
    "B = math.acos((b * b - a * a - c * c) / (-2 * a * c))\n",
    "C = math.acos((c * c - b * b - a * a) / (-2 * a * b))\n",
    "print(math.degrees(A),math.degrees(B),math.degrees(C))"
   ]
  },
  {
   "cell_type": "markdown",
   "metadata": {},
   "source": [
    "## 字符串和字符\n",
    "- 在Python中，字符串必须是在单引号或者双引号内，在多段换行的字符串中可以使用“”“\n",
    "- 在使用”“”时，给予其变量则变为字符串，否则当多行注释使用"
   ]
  },
  {
   "cell_type": "code",
   "execution_count": 20,
   "metadata": {},
   "outputs": [
    {
     "name": "stdout",
     "output_type": "stream",
     "text": [
      "字符串和字符\n"
     ]
    }
   ],
   "source": [
    "str = \"\"\"字符串和\n",
    "字符\"\"\"\n",
    "\"\"\"可换行赋值\"\"\"\n",
    "print(str)"
   ]
  },
  {
   "cell_type": "markdown",
   "metadata": {},
   "source": [
    "## ASCII码与Unicode码\n",
    "- <img src=\"../Python/Photo/19.png\"></img>\n",
    "- <img src=\"../Python/Photo/20.png\"></img>\n",
    "- <img src=\"../Python/Photo/21.png\"></img>"
   ]
  },
  {
   "cell_type": "markdown",
   "metadata": {},
   "source": [
    "## 函数ord、chr\n",
    "- ord 返回ASCII码值\n",
    "- chr 返回字符"
   ]
  },
  {
   "cell_type": "code",
   "execution_count": 1,
   "metadata": {},
   "outputs": [
    {
     "data": {
      "text/plain": [
       "97"
      ]
     },
     "execution_count": 1,
     "metadata": {},
     "output_type": "execute_result"
    }
   ],
   "source": [
    "ord('a')  #接受或返回的是十进制"
   ]
  },
  {
   "cell_type": "code",
   "execution_count": 4,
   "metadata": {},
   "outputs": [
    {
     "data": {
      "text/plain": [
       "'c'"
      ]
     },
     "execution_count": 4,
     "metadata": {},
     "output_type": "execute_result"
    }
   ],
   "source": [
    "chr(99)"
   ]
  },
  {
   "cell_type": "code",
   "execution_count": 5,
   "metadata": {},
   "outputs": [
    {
     "data": {
      "text/plain": [
       "38379"
      ]
     },
     "execution_count": 5,
     "metadata": {},
     "output_type": "execute_result"
    }
   ],
   "source": [
    "ord('闫')"
   ]
  },
  {
   "cell_type": "markdown",
   "metadata": {},
   "source": [
    "## EP:\n",
    "- 利用ord与chr进行简单邮箱加密"
   ]
  },
  {
   "cell_type": "code",
   "execution_count": 23,
   "metadata": {},
   "outputs": [
    {
     "name": "stdout",
     "output_type": "stream",
     "text": [
      "@  :  9  8  6  9  2  :  =  D  w  z  0  c  r  p  "
     ]
    }
   ],
   "source": [
    "import random\n",
    "youxiang = ('945112225@qq.com')\n",
    "for i in youxiang:\n",
    "    ran = random.random() * 10\n",
    "    print(chr(ord(i)+ int(ran)),end='  ')"
   ]
  },
  {
   "cell_type": "code",
   "execution_count": 24,
   "metadata": {},
   "outputs": [
    {
     "name": "stdout",
     "output_type": "stream",
     "text": [
      "C>?;;<<<?J{{8myw\n"
     ]
    }
   ],
   "source": [
    "youxiang = ('945112225@qq.com')\n",
    "result = ''\n",
    "for i in youxiang:\n",
    "    result = result + chr(ord(i) + 10)\n",
    "print(result)"
   ]
  },
  {
   "cell_type": "code",
   "execution_count": 26,
   "metadata": {},
   "outputs": [
    {
     "name": "stdout",
     "output_type": "stream",
     "text": [
      "2bd3b10a9bb1ae7613231ed98232f149\n"
     ]
    }
   ],
   "source": [
    "import hashlib\n",
    "\n",
    "str_ = 'yg'\n",
    "\n",
    "h1 = hashlib.md5()\n",
    "h1.update(str_.encode(encoding='utf-8'))\n",
    "\n",
    "print(h1.hexdigest())"
   ]
  },
  {
   "cell_type": "code",
   "execution_count": 29,
   "metadata": {},
   "outputs": [
    {
     "name": "stdout",
     "output_type": "stream",
     "text": [
      "输入密码：jj\n",
      "登陆失败\n"
     ]
    }
   ],
   "source": [
    "import hashlib\n",
    "dataset = '2bd3b10a9bb1ae7613231ed98232f149'\n",
    "mima = input('输入密码：')\n",
    "h1 = hashlib.md5()\n",
    "h1.update(mima.encode(encoding='utf-8'))\n",
    "if h1.hexdigest() == dataset:\n",
    "    print('登陆成功')\n",
    "else:\n",
    "    print('登陆失败')"
   ]
  },
  {
   "cell_type": "markdown",
   "metadata": {},
   "source": [
    "## 转义序列 \\\n",
    "- a = \"He said,\"Johon's program is easy to read\"\n",
    "- 转掉它原来的意思\n",
    "- 一般情况下只有当语句与默认方法相撞的时候，就需要转义"
   ]
  },
  {
   "cell_type": "code",
   "execution_count": null,
   "metadata": {},
   "outputs": [],
   "source": [
    "a = \"He said,\\\"Johon's program is easy to read\""
   ]
  },
  {
   "cell_type": "markdown",
   "metadata": {},
   "source": [
    "## 高级print\n",
    "- 参数 end： 以什么方式结束打印\n",
    "- 默认换行打印"
   ]
  },
  {
   "cell_type": "code",
   "execution_count": null,
   "metadata": {},
   "outputs": [],
   "source": [
    "print('a','b',sep='',end='!')  #sep参数间隔间   end输入末尾添加字符"
   ]
  },
  {
   "cell_type": "markdown",
   "metadata": {},
   "source": [
    "## 函数str\n",
    "- 将类型强制转换成字符串类型\n",
    "- 其他一些以后会学到(list,set,tuple...)"
   ]
  },
  {
   "cell_type": "code",
   "execution_count": 30,
   "metadata": {},
   "outputs": [
    {
     "ename": "TypeError",
     "evalue": "str() argument 2 must be str, not int",
     "output_type": "error",
     "traceback": [
      "\u001b[1;31m---------------------------------------------------------------------------\u001b[0m",
      "\u001b[1;31mTypeError\u001b[0m                                 Traceback (most recent call last)",
      "\u001b[1;32m<ipython-input-30-baacba502719>\u001b[0m in \u001b[0;36m<module>\u001b[1;34m()\u001b[0m\n\u001b[1;32m----> 1\u001b[1;33m \u001b[0mstr\u001b[0m\u001b[1;33m(\u001b[0m\u001b[1;36m1\u001b[0m\u001b[1;33m,\u001b[0m\u001b[1;36m2\u001b[0m\u001b[1;33m,\u001b[0m\u001b[1;36m3\u001b[0m\u001b[1;33m)\u001b[0m\u001b[1;33m\u001b[0m\u001b[0m\n\u001b[0m",
      "\u001b[1;31mTypeError\u001b[0m: str() argument 2 must be str, not int"
     ]
    }
   ],
   "source": []
  },
  {
   "cell_type": "markdown",
   "metadata": {},
   "source": [
    "## 字符串连接操作\n",
    "- 直接使用 “+” \n",
    "- join() 函数 "
   ]
  },
  {
   "cell_type": "code",
   "execution_count": 32,
   "metadata": {},
   "outputs": [
    {
     "name": "stdout",
     "output_type": "stream",
     "text": [
      "Wall time: 0 ns\n"
     ]
    },
    {
     "data": {
      "text/plain": [
       "'a!b!c!d'"
      ]
     },
     "execution_count": 32,
     "metadata": {},
     "output_type": "execute_result"
    }
   ],
   "source": [
    "%time '!'.join('abcd')  #字符串类型拼接   %time执行所用的时间"
   ]
  },
  {
   "cell_type": "markdown",
   "metadata": {},
   "source": [
    "## EP：\n",
    "- 将 “Welcome” “to” \"Python\" 拼接\n",
    "- 将int型 100 与 “joker is a bad man” 拼接\n",
    "- 从控制台读取字符串\n",
    "> 输入一个名字返回夸奖此人"
   ]
  },
  {
   "cell_type": "code",
   "execution_count": 34,
   "metadata": {},
   "outputs": [
    {
     "data": {
      "text/plain": [
       "'WelcomePython'"
      ]
     },
     "execution_count": 34,
     "metadata": {},
     "output_type": "execute_result"
    }
   ],
   "source": [
    "'Welcome' + 'Python'"
   ]
  },
  {
   "cell_type": "code",
   "execution_count": 35,
   "metadata": {},
   "outputs": [
    {
     "data": {
      "text/plain": [
       "'100joker is a bad man'"
      ]
     },
     "execution_count": 35,
     "metadata": {},
     "output_type": "execute_result"
    }
   ],
   "source": [
    "str('100') + 'joker is a bad man'"
   ]
  },
  {
   "cell_type": "code",
   "execution_count": 40,
   "metadata": {},
   "outputs": [
    {
     "name": "stdout",
     "output_type": "stream",
     "text": [
      "输入一个名字：闫罡\n",
      "闫罡你真帅\n"
     ]
    }
   ],
   "source": [
    "str = input('输入一个名字：')\n",
    "print(str,'你真帅',sep='')"
   ]
  },
  {
   "cell_type": "markdown",
   "metadata": {},
   "source": [
    "## 实例研究：最小数量硬币\n",
    "- 开发一个程序，让用户输入总金额，这是一个用美元和美分表示的浮点值，返回一个由美元、两角五分的硬币、一角的硬币、五分硬币、以及美分个数\n",
    "<img src=\"../Python/Photo/22.png\"></img>"
   ]
  },
  {
   "cell_type": "markdown",
   "metadata": {},
   "source": [
    "- Python弱项，对于浮点型的处理并不是很好，但是处理数据的时候使用的是Numpy类型\n",
    "<img src=\"../Python/Photo/23.png\"></img>"
   ]
  },
  {
   "cell_type": "markdown",
   "metadata": {},
   "source": [
    "## id与type\n",
    "- id 查看内存地址，在判断语句中将会使用\n",
    "- type 查看元素类型"
   ]
  },
  {
   "cell_type": "code",
   "execution_count": 42,
   "metadata": {},
   "outputs": [
    {
     "data": {
      "text/plain": [
       "bool"
      ]
     },
     "execution_count": 42,
     "metadata": {},
     "output_type": "execute_result"
    }
   ],
   "source": [
    "type(True)"
   ]
  },
  {
   "cell_type": "code",
   "execution_count": 43,
   "metadata": {},
   "outputs": [
    {
     "data": {
      "text/plain": [
       "1674800608"
      ]
     },
     "execution_count": 43,
     "metadata": {},
     "output_type": "execute_result"
    }
   ],
   "source": [
    "a = 1\n",
    "id(a)"
   ]
  },
  {
   "cell_type": "code",
   "execution_count": 44,
   "metadata": {},
   "outputs": [
    {
     "name": "stdout",
     "output_type": "stream",
     "text": [
      "1674800608 1674800608\n"
     ]
    }
   ],
   "source": [
    "a = 1\n",
    "b = 1\n",
    "print(id(a),id(b))  #256之前使用同样的内存地址"
   ]
  },
  {
   "cell_type": "markdown",
   "metadata": {},
   "source": [
    "## 其他格式化语句见书"
   ]
  },
  {
   "cell_type": "code",
   "execution_count": null,
   "metadata": {},
   "outputs": [],
   "source": []
  },
  {
   "cell_type": "markdown",
   "metadata": {},
   "source": [
    "# Homework\n",
    "- 1\n",
    "<img src=\"../Python/Photo/24.png\"><img>\n",
    "<img src=\"../Python/Photo/25.png\"><img>"
   ]
  },
  {
   "cell_type": "code",
   "execution_count": 14,
   "metadata": {},
   "outputs": [
    {
     "name": "stdout",
     "output_type": "stream",
     "text": [
      "输入一个正五边形顶点到中心的距离：5.5\n",
      "此正五边形的面积为：71.923649044821\n"
     ]
    }
   ],
   "source": [
    "r = eval(input('输入一个正五边形顶点到中心的距离：'))\n",
    "import math\n",
    "s = 2 * r * math.sin(math.pi / 5)\n",
    "area = 5 * s * s /(4 * math.tan(math.pi / 5))\n",
    "print('此正五边形的面积为：'+str(area))"
   ]
  },
  {
   "cell_type": "markdown",
   "metadata": {},
   "source": [
    "- 2\n",
    "<img src=\"../Python/Photo/26.png\"><img>"
   ]
  },
  {
   "cell_type": "code",
   "execution_count": 5,
   "metadata": {},
   "outputs": [
    {
     "name": "stdout",
     "output_type": "stream",
     "text": [
      "请输入第一个经度和纬度（用‘，’隔开）：39.55,-116.25\n",
      "请输入第一个经度和纬度（用‘，’隔开）：41.5,87.37\n",
      "10691.79183231593\n"
     ]
    }
   ],
   "source": [
    "import math\n",
    "latitude,longitude = eval(input('请输入第一个经度和纬度（用‘，’隔开）：'))\n",
    "latitude1,longitude1 = eval(input('请输入第一个经度和纬度（用‘，’隔开）：'))\n",
    "x1 = math.radians(latitude)\n",
    "x2 = math.radians(latitude1)\n",
    "y1 = math.radians(longitude)\n",
    "y2 = math.radians(longitude1)\n",
    "d = 6371.01 * math.acos(math.sin(x1) * math.sin(x2) + math.cos(x1) * math.cos(x2) * math.cos(y1-y2))\n",
    "print(str(d))"
   ]
  },
  {
   "cell_type": "markdown",
   "metadata": {},
   "source": [
    "- 3\n",
    "<img src=\"../Python/Photo/27.png\"><img>"
   ]
  },
  {
   "cell_type": "code",
   "execution_count": 4,
   "metadata": {},
   "outputs": [
    {
     "name": "stdout",
     "output_type": "stream",
     "text": [
      "输入五角形边长：5.5\n",
      "五角形的面积为：52.044441367816255\n"
     ]
    }
   ],
   "source": [
    "import math\n",
    "s = eval(input('输入五角形边长：'))\n",
    "area = (5 * pow(s,2)) / (4 * math.tan(math.pi / 5))\n",
    "print('五角形的面积为：' + str(area))"
   ]
  },
  {
   "cell_type": "markdown",
   "metadata": {},
   "source": [
    "- 4\n",
    "<img src=\"../Python/Photo/28.png\"><img>"
   ]
  },
  {
   "cell_type": "code",
   "execution_count": 6,
   "metadata": {},
   "outputs": [
    {
     "name": "stdout",
     "output_type": "stream",
     "text": [
      "输入边数：5\n",
      "输入多边形边长：6.5\n",
      "五角形的面积为：72.69017017488386\n"
     ]
    }
   ],
   "source": [
    "import math\n",
    "n = eval(input('输入边数：'))\n",
    "s = eval(input('输入多边形边长：'))\n",
    "area = (n * pow(s,2)) / (4 * math.tan(math.pi / 5))\n",
    "print('五角形的面积为：' + str(area))"
   ]
  },
  {
   "cell_type": "markdown",
   "metadata": {},
   "source": [
    "- 5\n",
    "<img src=\"../Python/Photo/29.png\"><img>\n",
    "<img src=\"../Python/Photo/30.png\"><img>"
   ]
  },
  {
   "cell_type": "code",
   "execution_count": 7,
   "metadata": {},
   "outputs": [
    {
     "name": "stdout",
     "output_type": "stream",
     "text": [
      "输入一个0-127之间的整数：69\n",
      "E\n"
     ]
    }
   ],
   "source": [
    "num = int(input('输入一个0-127之间的整数：'))\n",
    "print(chr(num))\n"
   ]
  },
  {
   "cell_type": "markdown",
   "metadata": {},
   "source": [
    "- 6\n",
    "<img src=\"../Python/Photo/31.png\"><img>"
   ]
  },
  {
   "cell_type": "code",
   "execution_count": 14,
   "metadata": {},
   "outputs": [
    {
     "name": "stdout",
     "output_type": "stream",
     "text": [
      "输入姓名：smith\n",
      "输入一周工作时间：10\n",
      "输入每小时报酬：9.75\n",
      "联邦预扣税率：0.20\n",
      "州预扣税率：0.09\n",
      "员工姓名：smith\n",
      "工作时间10\n",
      "每小时报酬：$9.75\n",
      "税前收入：$97.5\n",
      "各项税务：\n",
      "    联邦预扣税（20。0%）：$19.5\n",
      "    州预扣税（9.0%）：$8.775\n",
      "    总税收：$28.275\n",
      "税后收入：$69.225\n"
     ]
    }
   ],
   "source": [
    "name = str(input('输入姓名：'))\n",
    "time = eval(input('输入一周工作时间：'))\n",
    "rate = eval(input('输入每小时报酬：'))\n",
    "federal= eval(input('联邦预扣税率：'))\n",
    "state = eval(input('州预扣税率：'))\n",
    "Gpay = time * rate\n",
    "lianshui = Gpay * federal\n",
    "zhoushui = Gpay * state\n",
    "pay = Gpay - lianshui - zhoushui\n",
    "print('员工姓名：' + name)\n",
    "print('工作时间' + str(time))\n",
    "print('每小时报酬：$' + str(rate))\n",
    "print('税前收入：$' + str(Gpay))\n",
    "print('各项税务：')\n",
    "print('    联邦预扣税（20。0%）：$' + str(lianshui))\n",
    "print('    州预扣税（9.0%）：$' + str(zhoushui))\n",
    "print('    总税收：$' + str(lianshui + zhoushui))\n",
    "print('税后收入：$' + str(pay))"
   ]
  },
  {
   "cell_type": "markdown",
   "metadata": {},
   "source": [
    "- 7\n",
    "<img src=\"../Python/Photo/32.png\"><img>"
   ]
  },
  {
   "cell_type": "code",
   "execution_count": 15,
   "metadata": {},
   "outputs": [
    {
     "name": "stdout",
     "output_type": "stream",
     "text": [
      "输入一个四位整数：3125\n",
      "5213\n"
     ]
    }
   ],
   "source": [
    "num = int(input('输入一个四位整数：'))\n",
    "one = num // 1000\n",
    "two = num % 1000 // 100\n",
    "three = num % 100 // 10\n",
    "four = num % 10\n",
    "print(four,three,two,one,sep='')"
   ]
  },
  {
   "cell_type": "markdown",
   "metadata": {},
   "source": [
    "- 8 进阶：\n",
    "> 加密一串文本，并将解密后的文件写入本地保存"
   ]
  },
  {
   "cell_type": "code",
   "execution_count": 24,
   "metadata": {},
   "outputs": [
    {
     "name": "stdout",
     "output_type": "stream",
     "text": [
      "输入一串文本：123123asd\n",
      "加密后：;<=;<=k}n\n",
      "解密：123123asd\n"
     ]
    }
   ],
   "source": [
    "text = input('输入一串文本：')\n",
    "result = ''\n",
    "for i in text:\n",
    "    result = result + chr(ord(i) + 10)\n",
    "print('加密后：'+result)\n",
    "jiemi = ''\n",
    "for i in result:\n",
    "    jiemi = jiemi + chr(ord(i) - 10)\n",
    "print('解密：'+jiemi)"
   ]
  }
 ],
 "metadata": {
  "kernelspec": {
   "display_name": "Python 3",
   "language": "python",
   "name": "python3"
  },
  "language_info": {
   "codemirror_mode": {
    "name": "ipython",
    "version": 3
   },
   "file_extension": ".py",
   "mimetype": "text/x-python",
   "name": "python",
   "nbconvert_exporter": "python",
   "pygments_lexer": "ipython3",
   "version": "3.6.4"
  }
 },
 "nbformat": 4,
 "nbformat_minor": 2
}
